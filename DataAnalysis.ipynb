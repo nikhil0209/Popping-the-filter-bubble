{
 "cells": [
  {
   "cell_type": "code",
   "execution_count": 1,
   "metadata": {
    "collapsed": true
   },
   "outputs": [],
   "source": [
    "import re\n",
    "import pandas as pd\n",
    "import numpy as np\n",
    "import preprocessor as p\n",
    "import sys\n",
    "sys.path.append(\"/Library/Python/2.7/site-packages\")\n",
    "from wordcloud import WordCloud\n",
    "from nltk.probability import FreqDist, ConditionalFreqDist\n",
    "from textblob import TextBlob   \n",
    "import nltk\n",
    "import string\n",
    "from tqdm import tqdm\n",
    "from nltk import ngrams\n",
    "pd.set_option('display.max_colwidth', -1)"
   ]
  },
  {
   "cell_type": "code",
   "execution_count": 2,
   "metadata": {
    "collapsed": true
   },
   "outputs": [],
   "source": [
    "f = open(\"tweets_1.txt\")"
   ]
  },
  {
   "cell_type": "code",
   "execution_count": 3,
   "metadata": {
    "collapsed": true
   },
   "outputs": [],
   "source": [
    "data = f.readlines()\n",
    "clean_data = []\n",
    "for line in data:\n",
    "    if line[:2] == \"79\":\n",
    "        clean_data.append(line.strip())\n",
    "    else:\n",
    "        temp = clean_data[-1] + \" \" +  line.strip()\n",
    "        clean_data[-1]  = temp"
   ]
  },
  {
   "cell_type": "code",
   "execution_count": 4,
   "metadata": {},
   "outputs": [
    {
     "data": {
      "text/html": [
       "<div>\n",
       "<style>\n",
       "    .dataframe thead tr:only-child th {\n",
       "        text-align: right;\n",
       "    }\n",
       "\n",
       "    .dataframe thead th {\n",
       "        text-align: left;\n",
       "    }\n",
       "\n",
       "    .dataframe tbody tr th {\n",
       "        vertical-align: top;\n",
       "    }\n",
       "</style>\n",
       "<table border=\"1\" class=\"dataframe\">\n",
       "  <thead>\n",
       "    <tr style=\"text-align: right;\">\n",
       "      <th></th>\n",
       "      <th>text</th>\n",
       "      <th>tweet_id</th>\n",
       "    </tr>\n",
       "  </thead>\n",
       "  <tbody>\n",
       "    <tr>\n",
       "      <th>0</th>\n",
       "      <td>I voted early in #maryland . I voted for @ChrisVanHollen for the #Senate . Vote on Tuesday. Don't forget the… https://t.co/aDeosi0REt</td>\n",
       "      <td>795861704592789504</td>\n",
       "    </tr>\n",
       "    <tr>\n",
       "      <th>1</th>\n",
       "      <td>#PREZ of #senate #SHALL in #PRESENCE of #HOUSEand #SENATE,open #ALLCERTIFICATES and #VOTES #SHALL THEN stand up and #BECOUNTED person HAVING</td>\n",
       "      <td>795865532578795520</td>\n",
       "    </tr>\n",
       "    <tr>\n",
       "      <th>2</th>\n",
       "      <td>#WakeUpAmerica,#Trump2016,#Veterans,#Hialeah,#Miami,#MakeAmericaGreatAgain,#tcot,#MAGA,#SENATE,#NYT,#Cuba,#BREXIT,… https://t.co/yLnWLgrqfO</td>\n",
       "      <td>795897456366092292</td>\n",
       "    </tr>\n",
       "    <tr>\n",
       "      <th>3</th>\n",
       "      <td>Hat-tip to #PeterRobinson for adding my #Senate take to @Ricochet. Join the site -- best investment you'll make. https://t.co/8TSSZe5UjX</td>\n",
       "      <td>795850304956661760</td>\n",
       "    </tr>\n",
       "    <tr>\n",
       "      <th>4</th>\n",
       "      <td>We should learn from the past and prepare for the future.  #TheUnofficialGazette #Bills #Laws #Senate... https://t.co/W0giKl4uPd</td>\n",
       "      <td>795898663830745088</td>\n",
       "    </tr>\n",
       "  </tbody>\n",
       "</table>\n",
       "</div>"
      ],
      "text/plain": [
       "                                                                                                                                           text  \\\n",
       "0  I voted early in #maryland . I voted for @ChrisVanHollen for the #Senate . Vote on Tuesday. Don't forget the… https://t.co/aDeosi0REt          \n",
       "1  #PREZ of #senate #SHALL in #PRESENCE of #HOUSEand #SENATE,open #ALLCERTIFICATES and #VOTES #SHALL THEN stand up and #BECOUNTED person HAVING   \n",
       "2  #WakeUpAmerica,#Trump2016,#Veterans,#Hialeah,#Miami,#MakeAmericaGreatAgain,#tcot,#MAGA,#SENATE,#NYT,#Cuba,#BREXIT,… https://t.co/yLnWLgrqfO    \n",
       "3  Hat-tip to #PeterRobinson for adding my #Senate take to @Ricochet. Join the site -- best investment you'll make. https://t.co/8TSSZe5UjX       \n",
       "4  We should learn from the past and prepare for the future.  #TheUnofficialGazette #Bills #Laws #Senate... https://t.co/W0giKl4uPd               \n",
       "\n",
       "             tweet_id  \n",
       "0  795861704592789504  \n",
       "1  795865532578795520  \n",
       "2  795897456366092292  \n",
       "3  795850304956661760  \n",
       "4  795898663830745088  "
      ]
     },
     "execution_count": 4,
     "metadata": {},
     "output_type": "execute_result"
    }
   ],
   "source": [
    "df = []\n",
    "for tweet in clean_data:\n",
    "    try:\n",
    "        if tweet[:2] == \"79\":\n",
    "            df.append({'tweet_id': tweet[:18], 'text': tweet[19:]})\n",
    "    except:\n",
    "        pass\n",
    "\n",
    "df = pd.DataFrame(df)\n",
    "df.head()"
   ]
  },
  {
   "cell_type": "code",
   "execution_count": 5,
   "metadata": {
    "collapsed": true
   },
   "outputs": [],
   "source": [
    "all_hashtags = {}\n",
    "def get_hashtags(tweet):\n",
    "    parsed_tweet = p.parse(tweet.decode('ascii', 'ignore').encode('ascii').lower())\n",
    "    parsed_hashtags = parsed_tweet.hashtags\n",
    "    \n",
    "    hashtags = []\n",
    "    if parsed_hashtags is not None:\n",
    "        for hashtag in parsed_hashtags:\n",
    "            temp = hashtag.match[1:].lower()\n",
    "            if temp in all_hashtags:\n",
    "                all_hashtags[temp] += 1\n",
    "            else:\n",
    "                all_hashtags[temp] = 1\n",
    "            hashtags.append(temp)\n",
    "\n",
    "    hashtags_str = (\" \").join(hashtags)\n",
    "    return hashtags_str, len(hashtags)\n",
    "\n",
    "\n",
    "def get_clean_tweet(tweet):\n",
    "    p.set_options(p.OPT.URL, p.OPT.EMOJI)\n",
    "    clean_tweet = p.clean(tweet)\n",
    "    return clean_tweet"
   ]
  },
  {
   "cell_type": "code",
   "execution_count": 6,
   "metadata": {
    "collapsed": true
   },
   "outputs": [],
   "source": [
    "df['hashtags'], df['length'] = zip(*df['text'].map(get_hashtags)) \n",
    "df['tweet'] = df['text'].map(get_clean_tweet)\n",
    "df = df.drop_duplicates(\"text\")"
   ]
  },
  {
   "cell_type": "code",
   "execution_count": 7,
   "metadata": {},
   "outputs": [
    {
     "data": {
      "text/html": [
       "<div>\n",
       "<style>\n",
       "    .dataframe thead tr:only-child th {\n",
       "        text-align: right;\n",
       "    }\n",
       "\n",
       "    .dataframe thead th {\n",
       "        text-align: left;\n",
       "    }\n",
       "\n",
       "    .dataframe tbody tr th {\n",
       "        vertical-align: top;\n",
       "    }\n",
       "</style>\n",
       "<table border=\"1\" class=\"dataframe\">\n",
       "  <thead>\n",
       "    <tr style=\"text-align: right;\">\n",
       "      <th></th>\n",
       "      <th>text</th>\n",
       "      <th>tweet_id</th>\n",
       "      <th>hashtags</th>\n",
       "      <th>length</th>\n",
       "      <th>tweet</th>\n",
       "    </tr>\n",
       "  </thead>\n",
       "  <tbody>\n",
       "    <tr>\n",
       "      <th>0</th>\n",
       "      <td>I voted early in #maryland . I voted for @ChrisVanHollen for the #Senate . Vote on Tuesday. Don't forget the… https://t.co/aDeosi0REt</td>\n",
       "      <td>795861704592789504</td>\n",
       "      <td>maryland senate</td>\n",
       "      <td>2</td>\n",
       "      <td>I voted early in #maryland . I voted for @ChrisVanHollen for the #Senate . Vote on Tuesday. Don't forget the…</td>\n",
       "    </tr>\n",
       "    <tr>\n",
       "      <th>1</th>\n",
       "      <td>#PREZ of #senate #SHALL in #PRESENCE of #HOUSEand #SENATE,open #ALLCERTIFICATES and #VOTES #SHALL THEN stand up and #BECOUNTED person HAVING</td>\n",
       "      <td>795865532578795520</td>\n",
       "      <td>prez senate shall presence houseand senate allcertificates votes shall becounted</td>\n",
       "      <td>10</td>\n",
       "      <td>#PREZ of #senate #SHALL in #PRESENCE of #HOUSEand #SENATE,open #ALLCERTIFICATES and #VOTES #SHALL THEN stand up and #BECOUNTED person HAVING</td>\n",
       "    </tr>\n",
       "    <tr>\n",
       "      <th>2</th>\n",
       "      <td>#WakeUpAmerica,#Trump2016,#Veterans,#Hialeah,#Miami,#MakeAmericaGreatAgain,#tcot,#MAGA,#SENATE,#NYT,#Cuba,#BREXIT,… https://t.co/yLnWLgrqfO</td>\n",
       "      <td>795897456366092292</td>\n",
       "      <td>wakeupamerica trump2016 veterans hialeah miami makeamericagreatagain tcot maga senate nyt cuba brexit</td>\n",
       "      <td>12</td>\n",
       "      <td>#WakeUpAmerica,#Trump2016,#Veterans,#Hialeah,#Miami,#MakeAmericaGreatAgain,#tcot,#MAGA,#SENATE,#NYT,#Cuba,#BREXIT,…</td>\n",
       "    </tr>\n",
       "    <tr>\n",
       "      <th>3</th>\n",
       "      <td>Hat-tip to #PeterRobinson for adding my #Senate take to @Ricochet. Join the site -- best investment you'll make. https://t.co/8TSSZe5UjX</td>\n",
       "      <td>795850304956661760</td>\n",
       "      <td>peterrobinson senate</td>\n",
       "      <td>2</td>\n",
       "      <td>Hat-tip to #PeterRobinson for adding my #Senate take to @Ricochet. Join the site -- best investment you'll make.</td>\n",
       "    </tr>\n",
       "    <tr>\n",
       "      <th>4</th>\n",
       "      <td>We should learn from the past and prepare for the future.  #TheUnofficialGazette #Bills #Laws #Senate... https://t.co/W0giKl4uPd</td>\n",
       "      <td>795898663830745088</td>\n",
       "      <td>theunofficialgazette bills laws senate</td>\n",
       "      <td>4</td>\n",
       "      <td>We should learn from the past and prepare for the future. #TheUnofficialGazette #Bills #Laws #Senate... d</td>\n",
       "    </tr>\n",
       "  </tbody>\n",
       "</table>\n",
       "</div>"
      ],
      "text/plain": [
       "                                                                                                                                           text  \\\n",
       "0  I voted early in #maryland . I voted for @ChrisVanHollen for the #Senate . Vote on Tuesday. Don't forget the… https://t.co/aDeosi0REt          \n",
       "1  #PREZ of #senate #SHALL in #PRESENCE of #HOUSEand #SENATE,open #ALLCERTIFICATES and #VOTES #SHALL THEN stand up and #BECOUNTED person HAVING   \n",
       "2  #WakeUpAmerica,#Trump2016,#Veterans,#Hialeah,#Miami,#MakeAmericaGreatAgain,#tcot,#MAGA,#SENATE,#NYT,#Cuba,#BREXIT,… https://t.co/yLnWLgrqfO    \n",
       "3  Hat-tip to #PeterRobinson for adding my #Senate take to @Ricochet. Join the site -- best investment you'll make. https://t.co/8TSSZe5UjX       \n",
       "4  We should learn from the past and prepare for the future.  #TheUnofficialGazette #Bills #Laws #Senate... https://t.co/W0giKl4uPd               \n",
       "\n",
       "             tweet_id  \\\n",
       "0  795861704592789504   \n",
       "1  795865532578795520   \n",
       "2  795897456366092292   \n",
       "3  795850304956661760   \n",
       "4  795898663830745088   \n",
       "\n",
       "                                                                                                hashtags  \\\n",
       "0  maryland senate                                                                                         \n",
       "1  prez senate shall presence houseand senate allcertificates votes shall becounted                        \n",
       "2  wakeupamerica trump2016 veterans hialeah miami makeamericagreatagain tcot maga senate nyt cuba brexit   \n",
       "3  peterrobinson senate                                                                                    \n",
       "4  theunofficialgazette bills laws senate                                                                  \n",
       "\n",
       "   length  \\\n",
       "0  2        \n",
       "1  10       \n",
       "2  12       \n",
       "3  2        \n",
       "4  4        \n",
       "\n",
       "                                                                                                                                          tweet  \n",
       "0  I voted early in #maryland . I voted for @ChrisVanHollen for the #Senate . Vote on Tuesday. Don't forget the…                                 \n",
       "1  #PREZ of #senate #SHALL in #PRESENCE of #HOUSEand #SENATE,open #ALLCERTIFICATES and #VOTES #SHALL THEN stand up and #BECOUNTED person HAVING  \n",
       "2  #WakeUpAmerica,#Trump2016,#Veterans,#Hialeah,#Miami,#MakeAmericaGreatAgain,#tcot,#MAGA,#SENATE,#NYT,#Cuba,#BREXIT,…                           \n",
       "3  Hat-tip to #PeterRobinson for adding my #Senate take to @Ricochet. Join the site -- best investment you'll make.                              \n",
       "4  We should learn from the past and prepare for the future. #TheUnofficialGazette #Bills #Laws #Senate... d                                     "
      ]
     },
     "execution_count": 7,
     "metadata": {},
     "output_type": "execute_result"
    }
   ],
   "source": [
    "df.head()"
   ]
  },
  {
   "cell_type": "markdown",
   "metadata": {},
   "source": [
    "Wordcloud for all the secondary hashtags"
   ]
  },
  {
   "cell_type": "code",
   "execution_count": 8,
   "metadata": {},
   "outputs": [
    {
     "data": {
      "image/png": "[encoded data removed]",
      "text/plain": [
       "<matplotlib.figure.Figure at 0x11e686590>"
      ]
     },
     "metadata": {},
     "output_type": "display_data"
    }
   ],
   "source": [
    "wc = WordCloud().generate_from_frequencies(all_hashtags)\n",
    "\n",
    "import matplotlib.pyplot as plt\n",
    "plt.imshow(wc, interpolation='bilinear')\n",
    "plt.axis(\"off\")\n",
    "plt.show()"
   ]
  },
  {
   "cell_type": "code",
   "execution_count": 9,
   "metadata": {
    "collapsed": true
   },
   "outputs": [],
   "source": [
    "# concepts = pd.DataFrame(all_hashtags.items(), columns=['topic', 'n'])\n",
    "concept_dict = {}\n",
    "for k, d in enumerate(all_hashtags):\n",
    "    concept_dict[d] = k"
   ]
  },
  {
   "cell_type": "code",
   "execution_count": 10,
   "metadata": {},
   "outputs": [
    {
     "name": "stdout",
     "output_type": "stream",
     "text": [
      "('# of tweets:', 717005)\n",
      "I voted early in #maryland . I voted for @ChrisVanHollen for the #Senate . Vote on Tuesday. Don't forget the…\n",
      "#PREZ of #senate #SHALL in #PRESENCE of #HOUSEand #SENATE,open #ALLCERTIFICATES and #VOTES #SHALL THEN stand up and #BECOUNTED person HAVING\n",
      "#WakeUpAmerica,#Trump2016,#Veterans,#Hialeah,#Miami,#MakeAmericaGreatAgain,#tcot,#MAGA,#SENATE,#NYT,#Cuba,#BREXIT,…\n",
      "Hat-tip to #PeterRobinson for adding my #Senate take to @Ricochet. Join the site -- best investment you'll make.\n",
      "We should learn from the past and prepare for the future. #TheUnofficialGazette #Bills #Laws #Senate... d\n"
     ]
    }
   ],
   "source": [
    "tweets = df['tweet'].tolist()\n",
    "print('# of tweets:', len(tweets))\n",
    "for tweet in tweets[:5]:\n",
    "    print(tweet)"
   ]
  },
  {
   "cell_type": "markdown",
   "metadata": {},
   "source": [
    "Create hashtags based term document matrix"
   ]
  },
  {
   "cell_type": "code",
   "execution_count": null,
   "metadata": {
    "collapsed": true
   },
   "outputs": [],
   "source": [
    "from sklearn.feature_extraction.text import TfidfVectorizer\n",
    "from sklearn.decomposition import TruncatedSVD\n",
    "\n",
    "tweet_hashtags = df['hashtags'].tolist()\n",
    "vectorizer = TfidfVectorizer(max_features = 20000, use_idf=False)\n",
    "tf_vectors = vectorizer.fit_transform(tweet_hashtags)\n",
    "\n",
    "svd = TruncatedSVD(n_components=50, random_state=0)\n",
    "svd_tf_vectors = svd.fit_transform(tf_vectors)"
   ]
  },
  {
   "cell_type": "markdown",
   "metadata": {},
   "source": [
    "Load glove vectors, tokenize tweets "
   ]
  },
  {
   "cell_type": "code",
   "execution_count": null,
   "metadata": {
    "collapsed": true
   },
   "outputs": [],
   "source": [
    "import numpy as np\n",
    "print(\"loading glove model...\")\n",
    "embedding_size = 100\n",
    "glove_file = 'glove.twitter.27B.100d.txt'\n",
    "glove = {}\n",
    "with open(glove_file) as f:\n",
    "    for line in f.readlines():\n",
    "        line = line.replace(\"\\n\",\"\").split(\" \")\n",
    "        glove[line[0]] = np.array(line[1:],dtype='float64')"
   ]
  },
  {
   "cell_type": "code",
   "execution_count": null,
   "metadata": {
    "collapsed": true
   },
   "outputs": [],
   "source": [
    "from nltk.tokenize import TweetTokenizer\n",
    "tknzr = TweetTokenizer()\n",
    "\n",
    "def tweetVector(tweet):\n",
    "    words = tknzr.tokenize(tweet.lower().replace(\"#\",\" \"))                       \n",
    "    l = float(len(tweet) | 1)\n",
    "    sum = np.zeros(embedding_size)\n",
    "    for word in tweet:\n",
    "        sum += glove.get(word, np.zeros(embedding_size))\n",
    "    return sum/l"
   ]
  },
  {
   "cell_type": "code",
   "execution_count": null,
   "metadata": {},
   "outputs": [],
   "source": [
    "tweet_vectors = []\n",
    "for i in range(25000):\n",
    "    tweet_vectors.append(tweetVector(tweets[i]))"
   ]
  },
  {
   "cell_type": "code",
   "execution_count": null,
   "metadata": {
    "collapsed": true
   },
   "outputs": [],
   "source": [
    "tweet_vectors = np.array(tweet_vectors)"
   ]
  },
  {
   "cell_type": "markdown",
   "metadata": {},
   "source": [
    "Use Denoising AutoEncoders to create representation vectors"
   ]
  },
  {
   "cell_type": "code",
   "execution_count": null,
   "metadata": {
    "collapsed": true
   },
   "outputs": [],
   "source": [
    "from DenoisingAutoencoder import DenoisingAutoencoder\n",
    "from StackedDenoisingAutoencoders import StackedDenoisingAutoencoders\n",
    "\n",
    "da = DenoisingAutoencoder(n_hidden=400, verbose=True, training_epochs=5)\n",
    "da.fit(tweet_vectors)"
   ]
  },
  {
   "cell_type": "code",
   "execution_count": null,
   "metadata": {
    "collapsed": true
   },
   "outputs": [],
   "source": [
    "tweet_vectors = da.transform_latent_representation(tweet_vectors)"
   ]
  },
  {
   "cell_type": "markdown",
   "metadata": {},
   "source": [
    "KMeans Clustering"
   ]
  },
  {
   "cell_type": "code",
   "execution_count": null,
   "metadata": {},
   "outputs": [],
   "source": [
    "from sklearn.cluster import MiniBatchKMeans\n",
    "\n",
    "num_clusters = 20\n",
    "kmeans_model = MiniBatchKMeans(n_clusters=num_clusters, init='k-means++', n_init=1, \n",
    "                         init_size=1000, batch_size=1000, verbose=False, max_iter=1000)\n",
    "kmeans = kmeans_model.fit(doc_topic)\n",
    "kmeans_clusters = kmeans.predict(doc_topic)\n",
    "kmeans_distances = kmeans.transform(doc_topic)\n",
    "\n",
    "for i, tweet in enumerate(tweets):\n",
    "    if(i < 15):\n",
    "        print(\"Cluster \" + str(kmeans_clusters[i]) + \": \" + tweet + \"(distance: \" + str(kmeans_distances[i][kmeans_clusters[i]]) + \")\")"
   ]
  },
  {
   "cell_type": "markdown",
   "metadata": {},
   "source": [
    "Calculating Collocations"
   ]
  },
  {
   "cell_type": "code",
   "execution_count": null,
   "metadata": {
    "collapsed": true
   },
   "outputs": [],
   "source": [
    "def get_score(bigram, wfd, bfd, n_xx):\n",
    "    n_ix = wfd[bigram[0]]\n",
    "    n_xi = wfd[bigram[1]]\n",
    "    n_ii = bfd[bigram]\n",
    "    n_oi = n_xi - n_ii\n",
    "    n_io = n_ix - n_ii\n",
    "    n_oo = n_xx - n_ii - n_oi - n_io\n",
    "    score = (float(n_ii*n_oo - n_io*n_oi)**2 /\n",
    "                ((n_ii + n_io) * (n_ii + n_oi) * (n_io + n_oo) * (n_oi + n_oo)))\n",
    "    return score\n",
    "\n",
    "tknzr = nltk.TweetTokenizer()\n",
    "\n",
    "wfd = FreqDist()\n",
    "bfd = FreqDist()\n",
    "stopwords = nltk.corpus.stopwords.words('english')\n",
    "\n",
    "for i in tqdm(range(len(tweets))):\n",
    "    tweet = \"\".join(l for l in tweets[i] if l not in string.punctuation)\n",
    "    data_tokens = (tknzr.tokenize(tweet.lower()))\n",
    "    tokens = [w for w in data_tokens if w.lower() not in stopwords]\n",
    "\n",
    "    for window in ngrams(tokens, 2, pad_right=True):\n",
    "        w1 = window[0]\n",
    "        if w1 is None:\n",
    "            continue\n",
    "        wfd[w1] += 1\n",
    "        for w2 in window[1:]:\n",
    "            if w2 is not None:\n",
    "                bfd[(w1, w2)] += 1\n",
    "            \n",
    "after_filter_bigrams = FreqDist()\n",
    "for words, freq in bfd.iteritems():\n",
    "    if not (freq < 3):\n",
    "        after_filter_bigrams[words] = freq\n",
    "\n",
    "score_FD = FreqDist()\n",
    "for bigram in  after_filter_bigrams:\n",
    "    score_FD[bigram] = get_score(bigram, wfd, after_filter_bigrams, after_filter_bigrams.N())"
   ]
  },
  {
   "cell_type": "code",
   "execution_count": null,
   "metadata": {
    "collapsed": true
   },
   "outputs": [],
   "source": [
    "def compute_distance(w1, w2):\n",
    "    if(w1, w2) in score_FD:\n",
    "        return score_FD[(w1, w2)]\n",
    "\n",
    "words = all_hashtags.keys()\n",
    "words = np.asarray(words) #So that indexing with a list will work\n",
    "lev_similarity = -1*np.array([[compute_distance(w1,w2) for w1 in words] for w2 in words])"
   ]
  },
  {
   "cell_type": "markdown",
   "metadata": {},
   "source": [
    "Create Skip vectors"
   ]
  },
  {
   "cell_type": "code",
   "execution_count": null,
   "metadata": {
    "collapsed": true
   },
   "outputs": [],
   "source": [
    "sys.path.append(\"skip-thoughts\")\n",
    "import skipthoughts\n",
    "import numpy as np\n",
    "\n",
    "model = skipthoughts.load_model()\n",
    "encoder = skipthoughts.Encoder(model)\n",
    "skip_vectors = []\n",
    "\n",
    "for tweet in tweets:    \n",
    "    try:\n",
    "        tweet = tweet.decode('ascii', 'ignore').encode('ascii').lower()\n",
    "        skip_vectors.append(encoder.encode(tweet, verbose=0))\n",
    "    except:\n",
    "        skip_vectors.append(np.zeros(4800))"
   ]
  },
  {
   "cell_type": "markdown",
   "metadata": {},
   "source": [
    "Clustering "
   ]
  },
  {
   "cell_type": "code",
   "execution_count": null,
   "metadata": {},
   "outputs": [],
   "source": [
    "from sklearn.metrics import adjusted_mutual_info_score\n",
    "import rcc\n",
    "clusterer = rcc.RccCluster(measure='cosine')\n",
    "\n",
    "P = clusterer.fit(doc_topic)"
   ]
  },
  {
   "cell_type": "markdown",
   "metadata": {},
   "source": [
    "LDA"
   ]
  },
  {
   "cell_type": "code",
   "execution_count": 11,
   "metadata": {},
   "outputs": [],
   "source": [
    "import lda\n",
    "from sklearn.feature_extraction.text import CountVectorizer\n",
    "from wordsegment import load, segment\n",
    "load()\n",
    "\n",
    "segmented_tweets = []\n",
    "for tweet in tweets:\n",
    "    words = []\n",
    "    for word in tweet.lower().replace(\"#\",\" \").split(\" \"):\n",
    "        words.append((\" \").join(segment(word)))\n",
    "    segmented_tweets.append((\" \").join(words))"
   ]
  },
  {
   "cell_type": "code",
   "execution_count": 18,
   "metadata": {},
   "outputs": [
    {
     "name": "stderr",
     "output_type": "stream",
     "text": [
      "INFO:lda:n_documents: 50000\n",
      "INFO:lda:vocab_size: 9164\n",
      "INFO:lda:n_words: 391103\n",
      "INFO:lda:n_topics: 20\n",
      "INFO:lda:n_iter: 2000\n",
      "WARNING:lda:all zero row in document-term matrix found\n",
      "INFO:lda:<0> log likelihood: -4653651\n",
      "INFO:lda:<10> log likelihood: -3297782\n",
      "INFO:lda:<20> log likelihood: -3125106\n",
      "INFO:lda:<30> log likelihood: -3065232\n",
      "INFO:lda:<40> log likelihood: -3032527\n",
      "INFO:lda:<50> log likelihood: -3011178\n",
      "INFO:lda:<60> log likelihood: -2998309\n",
      "INFO:lda:<70> log likelihood: -2988249\n",
      "INFO:lda:<80> log likelihood: -2982124\n",
      "INFO:lda:<90> log likelihood: -2977804\n",
      "INFO:lda:<100> log likelihood: -2972970\n",
      "INFO:lda:<110> log likelihood: -2969893\n",
      "INFO:lda:<120> log likelihood: -2966638\n",
      "INFO:lda:<130> log likelihood: -2964839\n",
      "INFO:lda:<140> log likelihood: -2963783\n",
      "INFO:lda:<150> log likelihood: -2962089\n",
      "INFO:lda:<160> log likelihood: -2960349\n",
      "INFO:lda:<170> log likelihood: -2958314\n",
      "INFO:lda:<180> log likelihood: -2957541\n",
      "INFO:lda:<190> log likelihood: -2957245\n",
      "INFO:lda:<200> log likelihood: -2955665\n",
      "INFO:lda:<210> log likelihood: -2953909\n",
      "INFO:lda:<220> log likelihood: -2953282\n",
      "INFO:lda:<230> log likelihood: -2952750\n",
      "INFO:lda:<240> log likelihood: -2951708\n",
      "INFO:lda:<250> log likelihood: -2951710\n",
      "INFO:lda:<260> log likelihood: -2950931\n",
      "INFO:lda:<270> log likelihood: -2949613\n",
      "INFO:lda:<280> log likelihood: -2949873\n",
      "INFO:lda:<290> log likelihood: -2948683\n",
      "INFO:lda:<300> log likelihood: -2948580\n",
      "INFO:lda:<310> log likelihood: -2947077\n",
      "INFO:lda:<320> log likelihood: -2947496\n",
      "INFO:lda:<330> log likelihood: -2947525\n",
      "INFO:lda:<340> log likelihood: -2945261\n",
      "INFO:lda:<350> log likelihood: -2946711\n",
      "INFO:lda:<360> log likelihood: -2947087\n",
      "INFO:lda:<370> log likelihood: -2945794\n",
      "INFO:lda:<380> log likelihood: -2945582\n",
      "INFO:lda:<390> log likelihood: -2944941\n",
      "INFO:lda:<400> log likelihood: -2943590\n",
      "INFO:lda:<410> log likelihood: -2943906\n",
      "INFO:lda:<420> log likelihood: -2944232\n",
      "INFO:lda:<430> log likelihood: -2945161\n",
      "INFO:lda:<440> log likelihood: -2944809\n",
      "INFO:lda:<450> log likelihood: -2944186\n",
      "INFO:lda:<460> log likelihood: -2944109\n",
      "INFO:lda:<470> log likelihood: -2943681\n",
      "INFO:lda:<480> log likelihood: -2942901\n",
      "INFO:lda:<490> log likelihood: -2943181\n",
      "INFO:lda:<500> log likelihood: -2943841\n",
      "INFO:lda:<510> log likelihood: -2942146\n",
      "INFO:lda:<520> log likelihood: -2943926\n",
      "INFO:lda:<530> log likelihood: -2943665\n",
      "INFO:lda:<540> log likelihood: -2943283\n",
      "INFO:lda:<550> log likelihood: -2941662\n",
      "INFO:lda:<560> log likelihood: -2942710\n",
      "INFO:lda:<570> log likelihood: -2942498\n",
      "INFO:lda:<580> log likelihood: -2943596\n",
      "INFO:lda:<590> log likelihood: -2940837\n",
      "INFO:lda:<600> log likelihood: -2941149\n",
      "INFO:lda:<610> log likelihood: -2940517\n",
      "INFO:lda:<620> log likelihood: -2941119\n",
      "INFO:lda:<630> log likelihood: -2940785\n",
      "INFO:lda:<640> log likelihood: -2940506\n",
      "INFO:lda:<650> log likelihood: -2940926\n",
      "INFO:lda:<660> log likelihood: -2940567\n",
      "INFO:lda:<670> log likelihood: -2941229\n",
      "INFO:lda:<680> log likelihood: -2940669\n",
      "INFO:lda:<690> log likelihood: -2940780\n",
      "INFO:lda:<700> log likelihood: -2941018\n",
      "INFO:lda:<710> log likelihood: -2940446\n",
      "INFO:lda:<720> log likelihood: -2940232\n",
      "INFO:lda:<730> log likelihood: -2940401\n",
      "INFO:lda:<740> log likelihood: -2940432\n",
      "INFO:lda:<750> log likelihood: -2939924\n",
      "INFO:lda:<760> log likelihood: -2939511\n",
      "INFO:lda:<770> log likelihood: -2939705\n",
      "INFO:lda:<780> log likelihood: -2938762\n",
      "INFO:lda:<790> log likelihood: -2940869\n",
      "INFO:lda:<800> log likelihood: -2939282\n",
      "INFO:lda:<810> log likelihood: -2939445\n",
      "INFO:lda:<820> log likelihood: -2939628\n",
      "INFO:lda:<830> log likelihood: -2940881\n",
      "INFO:lda:<840> log likelihood: -2939468\n",
      "INFO:lda:<850> log likelihood: -2940113\n",
      "INFO:lda:<860> log likelihood: -2938163\n",
      "INFO:lda:<870> log likelihood: -2939347\n",
      "INFO:lda:<880> log likelihood: -2937922\n",
      "INFO:lda:<890> log likelihood: -2937752\n",
      "INFO:lda:<900> log likelihood: -2937272\n",
      "INFO:lda:<910> log likelihood: -2938393\n",
      "INFO:lda:<920> log likelihood: -2936984\n",
      "INFO:lda:<930> log likelihood: -2937849\n",
      "INFO:lda:<940> log likelihood: -2937409\n",
      "INFO:lda:<950> log likelihood: -2937570\n",
      "INFO:lda:<960> log likelihood: -2937651\n",
      "INFO:lda:<970> log likelihood: -2936793\n",
      "INFO:lda:<980> log likelihood: -2936869\n",
      "INFO:lda:<990> log likelihood: -2937156\n",
      "INFO:lda:<1000> log likelihood: -2937347\n",
      "INFO:lda:<1010> log likelihood: -2936129\n",
      "INFO:lda:<1020> log likelihood: -2936470\n",
      "INFO:lda:<1030> log likelihood: -2937144\n",
      "INFO:lda:<1040> log likelihood: -2937053\n",
      "INFO:lda:<1050> log likelihood: -2936556\n",
      "INFO:lda:<1060> log likelihood: -2935919\n",
      "INFO:lda:<1070> log likelihood: -2937654\n",
      "INFO:lda:<1080> log likelihood: -2935744\n",
      "INFO:lda:<1090> log likelihood: -2936840\n",
      "INFO:lda:<1100> log likelihood: -2935715\n",
      "INFO:lda:<1110> log likelihood: -2935882\n",
      "INFO:lda:<1120> log likelihood: -2936340\n",
      "INFO:lda:<1130> log likelihood: -2935098\n",
      "INFO:lda:<1140> log likelihood: -2936061\n",
      "INFO:lda:<1150> log likelihood: -2936995\n",
      "INFO:lda:<1160> log likelihood: -2935241\n",
      "INFO:lda:<1170> log likelihood: -2936075\n",
      "INFO:lda:<1180> log likelihood: -2935033\n",
      "INFO:lda:<1190> log likelihood: -2935675\n",
      "INFO:lda:<1200> log likelihood: -2935415\n",
      "INFO:lda:<1210> log likelihood: -2934793\n",
      "INFO:lda:<1220> log likelihood: -2934843\n",
      "INFO:lda:<1230> log likelihood: -2933814\n",
      "INFO:lda:<1240> log likelihood: -2934610\n",
      "INFO:lda:<1250> log likelihood: -2934638\n",
      "INFO:lda:<1260> log likelihood: -2934579\n",
      "INFO:lda:<1270> log likelihood: -2933513\n",
      "INFO:lda:<1280> log likelihood: -2935011\n",
      "INFO:lda:<1290> log likelihood: -2933276\n",
      "INFO:lda:<1300> log likelihood: -2935931\n",
      "INFO:lda:<1310> log likelihood: -2934478\n",
      "INFO:lda:<1320> log likelihood: -2934939\n",
      "INFO:lda:<1330> log likelihood: -2934585\n",
      "INFO:lda:<1340> log likelihood: -2934687\n",
      "INFO:lda:<1350> log likelihood: -2934193\n",
      "INFO:lda:<1360> log likelihood: -2936432\n",
      "INFO:lda:<1370> log likelihood: -2934020\n",
      "INFO:lda:<1380> log likelihood: -2934930\n",
      "INFO:lda:<1390> log likelihood: -2934607\n",
      "INFO:lda:<1400> log likelihood: -2935811\n",
      "INFO:lda:<1410> log likelihood: -2934554\n",
      "INFO:lda:<1420> log likelihood: -2934729\n",
      "INFO:lda:<1430> log likelihood: -2936881\n",
      "INFO:lda:<1440> log likelihood: -2935512\n",
      "INFO:lda:<1450> log likelihood: -2935666\n",
      "INFO:lda:<1460> log likelihood: -2934268\n",
      "INFO:lda:<1470> log likelihood: -2936146\n",
      "INFO:lda:<1480> log likelihood: -2935197\n",
      "INFO:lda:<1490> log likelihood: -2935231\n",
      "INFO:lda:<1500> log likelihood: -2935912\n",
      "INFO:lda:<1510> log likelihood: -2935197\n",
      "INFO:lda:<1520> log likelihood: -2935076\n",
      "INFO:lda:<1530> log likelihood: -2934596\n",
      "INFO:lda:<1540> log likelihood: -2934292\n",
      "INFO:lda:<1550> log likelihood: -2933820\n",
      "INFO:lda:<1560> log likelihood: -2934788\n",
      "INFO:lda:<1570> log likelihood: -2935657\n",
      "INFO:lda:<1580> log likelihood: -2935350\n",
      "INFO:lda:<1590> log likelihood: -2936525\n",
      "INFO:lda:<1600> log likelihood: -2935454\n",
      "INFO:lda:<1610> log likelihood: -2935853\n",
      "INFO:lda:<1620> log likelihood: -2935963\n",
      "INFO:lda:<1630> log likelihood: -2934977\n",
      "INFO:lda:<1640> log likelihood: -2935505\n",
      "INFO:lda:<1650> log likelihood: -2935264\n",
      "INFO:lda:<1660> log likelihood: -2934373\n",
      "INFO:lda:<1670> log likelihood: -2935068\n",
      "INFO:lda:<1680> log likelihood: -2934371\n",
      "INFO:lda:<1690> log likelihood: -2935407\n",
      "INFO:lda:<1700> log likelihood: -2934612\n",
      "INFO:lda:<1710> log likelihood: -2934060\n",
      "INFO:lda:<1720> log likelihood: -2935455\n",
      "INFO:lda:<1730> log likelihood: -2934680\n",
      "INFO:lda:<1740> log likelihood: -2934156\n",
      "INFO:lda:<1750> log likelihood: -2935568\n",
      "INFO:lda:<1760> log likelihood: -2934187\n",
      "INFO:lda:<1770> log likelihood: -2935028\n",
      "INFO:lda:<1780> log likelihood: -2935899\n",
      "INFO:lda:<1790> log likelihood: -2934840\n",
      "INFO:lda:<1800> log likelihood: -2934553\n",
      "INFO:lda:<1810> log likelihood: -2934306\n",
      "INFO:lda:<1820> log likelihood: -2935023\n",
      "INFO:lda:<1830> log likelihood: -2934322\n",
      "INFO:lda:<1840> log likelihood: -2935081\n",
      "INFO:lda:<1850> log likelihood: -2935330\n",
      "INFO:lda:<1860> log likelihood: -2934209\n",
      "INFO:lda:<1870> log likelihood: -2935080\n",
      "INFO:lda:<1880> log likelihood: -2933293\n",
      "INFO:lda:<1890> log likelihood: -2933064\n",
      "INFO:lda:<1900> log likelihood: -2934957\n",
      "INFO:lda:<1910> log likelihood: -2934542\n",
      "INFO:lda:<1920> log likelihood: -2933339\n",
      "INFO:lda:<1930> log likelihood: -2933631\n",
      "INFO:lda:<1940> log likelihood: -2933913\n",
      "INFO:lda:<1950> log likelihood: -2935275\n",
      "INFO:lda:<1960> log likelihood: -2933695\n",
      "INFO:lda:<1970> log likelihood: -2933115\n",
      "INFO:lda:<1980> log likelihood: -2933176\n"
     ]
    },
    {
     "name": "stderr",
     "output_type": "stream",
     "text": [
      "INFO:lda:<1990> log likelihood: -2933848\n",
      "INFO:lda:<1999> log likelihood: -2933119\n"
     ]
    }
   ],
   "source": [
    "cvectorizer = CountVectorizer(min_df=4, max_features=10000, stop_words='english')\n",
    "cvz = cvectorizer.fit_transform(tweets[:50000])\n",
    "\n",
    "n_topics = 20\n",
    "n_iter = 2000\n",
    "lda_model = lda.LDA(n_topics=n_topics, n_iter=n_iter)\n",
    "X_topics = lda_model.fit_transform(cvz)"
   ]
  },
  {
   "cell_type": "code",
   "execution_count": 19,
   "metadata": {},
   "outputs": [
    {
     "name": "stdout",
     "output_type": "stream",
     "text": [
      "Topic 0: congress republican trump court supreme president gop senate\n",
      "Topic 1: congress trump wins hope vote president hillary win\n",
      "Topic 2: congress election power president democrats checks executive balances\n",
      "Topic 3: senate congress house republicans control gop electionnight win\n",
      "Topic 4: congress hai ki ne modi ke ka hi\n",
      "Topic 5: congress fbi hillary amp clinton comey federal charge\n",
      "Topic 6: congress join rs 500 drainherswamp 1000 notes amp\n",
      "Topic 7: congress vote state senate don president voting just\n",
      "Topic 8: congress president people don just laws power really\n",
      "Topic 9: congress trump shit like won let republican pass\n",
      "Topic 10: congress wins senate term republican clinton new election\n",
      "Topic 11: congress amp just like got did know ve\n",
      "Topic 12: congress president war gandhi rahul help need sign\n",
      "Topic 13: congress good great thank new member god amp\n",
      "Topic 14: congress money black party blackmoney modi indiafightscorruption amp\n",
      "Topic 15: congress mt control cosproject termlimits pjnet grabs term\n",
      "Topic 16: congress obama years gop amp trump people did\n",
      "Topic 17: senate congress electionnight race florida seat vote election2016\n",
      "Topic 18: congress vote elected woman american amp electionday women\n",
      "Topic 19: congress rt gt read news world work youth\n"
     ]
    }
   ],
   "source": [
    "n_top_words = 8\n",
    "topic_summaries = []\n",
    "\n",
    "topic_word = lda_model.topic_word_  # get the topic words\n",
    "vocab = cvectorizer.get_feature_names()\n",
    "for i, topic_dist in enumerate(topic_word):\n",
    "    topic_words = np.array(vocab)[np.argsort(topic_dist)][:-(n_top_words+1):-1]\n",
    "    topic_summaries.append(' '.join(topic_words))\n",
    "    print('Topic {}: {}'.format(i, ' '.join(topic_words)))"
   ]
  },
  {
   "cell_type": "code",
   "execution_count": 20,
   "metadata": {},
   "outputs": [],
   "source": [
    "doc_topic = lda_model.doc_topic_\n",
    "clusters = [doc_topic[i].argmax() for i in range(len(doc_topic))]"
   ]
  },
  {
   "cell_type": "code",
   "execution_count": 22,
   "metadata": {},
   "outputs": [],
   "source": [
    "new_df = df[['tweet','tweet_id']][:50000]\n",
    "new_df[\"clusters\"] = clusters"
   ]
  },
  {
   "cell_type": "code",
   "execution_count": 23,
   "metadata": {},
   "outputs": [],
   "source": [
    "new_df.to_pickle(\"data_clusters_50000.pkl\")"
   ]
  },
  {
   "cell_type": "markdown",
   "metadata": {},
   "source": [
    "Sentiment Analysis"
   ]
  },
  {
   "cell_type": "code",
   "execution_count": null,
   "metadata": {
    "collapsed": true
   },
   "outputs": [],
   "source": [
    "from nltk.sentiment.vader import SentimentIntensityAnalyzer\n",
    "sid = SentimentIntensityAnalyzer()\n",
    "\n",
    "def get_sentiment_score(tweet):\n",
    "    ss = sid.polarity_scores(tweet)\n",
    "    return ss[\"pos\"], ss[\"neg\"], ss[\"neu\"]\n",
    "\n",
    "df['pos_score'], df['neg_score'], df['neu_score'] = zip(*df['text'].map(get_sentiment_score)) \n",
    "df.head()"
   ]
  },
  {
   "cell_type": "code",
   "execution_count": null,
   "metadata": {
    "collapsed": true
   },
   "outputs": [],
   "source": [
    "from langdetect import detect\n",
    "\n",
    "def language_detect(tweet):\n",
    "    return detect(tweet)\n",
    "\n",
    "df['lang'] = df[df['tweet'].str.len() > 3]['tweet'].map(language_detect)"
   ]
  },
  {
   "cell_type": "code",
   "execution_count": null,
   "metadata": {
    "collapsed": true
   },
   "outputs": [],
   "source": []
  }
 ],
 "metadata": {
  "kernelspec": {
   "display_name": "Python 2",
   "language": "python",
   "name": "python2"
  },
  "language_info": {
   "codemirror_mode": {
    "name": "ipython",
    "version": 2
   },
   "file_extension": ".py",
   "mimetype": "text/x-python",
   "name": "python",
   "nbconvert_exporter": "python",
   "pygments_lexer": "ipython2",
   "version": "2.7.14"
  }
 },
 "nbformat": 4,
 "nbformat_minor": 2
}
